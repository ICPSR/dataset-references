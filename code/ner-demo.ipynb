{
 "cells": [
  {
   "cell_type": "markdown",
   "metadata": {},
   "source": [
    "# NER Demo\n",
    "Apply NER model trained with Prodigy/spaCy pipeline to predict sentences from a journal articles that reference datasets"
   ]
  },
  {
   "cell_type": "code",
   "execution_count": 1,
   "metadata": {},
   "outputs": [],
   "source": [
    "import glob\n",
    "import json\n",
    "import re\n",
    "import pandas as pd\n",
    "import nltk\n",
    "from nltk.tokenize import sent_tokenize\n",
    "import spacy\n",
    "from spacy import displacy"
   ]
  },
  {
   "cell_type": "code",
   "execution_count": null,
   "metadata": {},
   "outputs": [],
   "source": [
    "def clean_text(txt):\n",
    "    \"\"\"\n",
    "    Converts text to lowercase, removes special characters and punctuation\n",
    "    \"\"\"\n",
    "    return re.sub('[^A-Za-z0-9]+', ' ', str(txt).lower())\n",
    "\n",
    "def clean_text2(txt):\n",
    "    \"\"\"\n",
    "    Removes special characters and punctuation\n",
    "    \"\"\"\n",
    "    return re.sub('[^A-Za-z0-9]+', ' ', str(txt))"
   ]
  },
  {
   "cell_type": "code",
   "execution_count": null,
   "metadata": {},
   "outputs": [],
   "source": [
    "DIR = '/nfs/turbo/hrg/bib_demo/'"
   ]
  },
  {
   "cell_type": "markdown",
   "metadata": {},
   "source": [
    "## Journal article\n",
    "Select a journal article from the [ICPSR Bibliography of Data-Related Literature](https://www.icpsr.umich.edu/web/pages/ICPSR/citations/) that uses ICPSR data. Parse the article text to look for references to research datasets. The following studies are related to the selected publication:\n",
    "\n",
    "* **Acharya, A., Blackwell, M., & Sen, M. (2016). [The political legacy of American slavery](https://app-dimensions-ai.proxy.lib.umich.edu/details/publication/pub.1058867878?search_mode=content&search_text=%22The%20Political%20Legacy%20of%20American%20Slavery%22&search_type=kws&search_field=text_search). The Journal of Politics, 78(3), 621-641.**"
   ]
  },
  {
   "cell_type": "code",
   "execution_count": 2,
   "metadata": {},
   "outputs": [
    {
     "name": "stdout",
     "output_type": "stream",
     "text": [
      "CPU times: user 29 ms, sys: 2.55 ms, total: 31.5 ms\n",
      "Wall time: 34.2 ms\n"
     ]
    },
    {
     "data": {
      "text/html": [
       "<div>\n",
       "<style scoped>\n",
       "    .dataframe tbody tr th:only-of-type {\n",
       "        vertical-align: middle;\n",
       "    }\n",
       "\n",
       "    .dataframe tbody tr th {\n",
       "        vertical-align: top;\n",
       "    }\n",
       "\n",
       "    .dataframe thead th {\n",
       "        text-align: right;\n",
       "    }\n",
       "</style>\n",
       "<table border=\"1\" class=\"dataframe\">\n",
       "  <thead>\n",
       "    <tr style=\"text-align: right;\">\n",
       "      <th></th>\n",
       "      <th>paper_title</th>\n",
       "      <th>paper_section</th>\n",
       "      <th>sentence_text</th>\n",
       "    </tr>\n",
       "  </thead>\n",
       "  <tbody>\n",
       "    <tr>\n",
       "      <th>106</th>\n",
       "      <td>The Political Legacy of American Slavery *</td>\n",
       "      <td>Outcome Variables Measuring Contemporary White...</td>\n",
       "      <td>White-black thermometer difference.</td>\n",
       "    </tr>\n",
       "    <tr>\n",
       "      <th>331</th>\n",
       "      <td>The Political Legacy of American Slavery *</td>\n",
       "      <td>Mechanization of Southern Agriculture</td>\n",
       "      <td>For example, where mechanization did not grow ...</td>\n",
       "    </tr>\n",
       "    <tr>\n",
       "      <th>185</th>\n",
       "      <td>The Political Legacy of American Slavery *</td>\n",
       "      <td>Racial Threat (Contemporary Black Concentrations)</td>\n",
       "      <td>This method enables us to calculate the contro...</td>\n",
       "    </tr>\n",
       "    <tr>\n",
       "      <th>156</th>\n",
       "      <td>The Political Legacy of American Slavery *</td>\n",
       "      <td>Instrumenting for Slavery with Cotton Suitability</td>\n",
       "      <td>13 Column (1) presents the first-stage relatio...</td>\n",
       "    </tr>\n",
       "    <tr>\n",
       "      <th>57</th>\n",
       "      <td>The Political Legacy of American Slavery *</td>\n",
       "      <td>Historical Persistence of White Political Atti...</td>\n",
       "      <td>On the one hand, Southern institutions such as...</td>\n",
       "    </tr>\n",
       "    <tr>\n",
       "      <th>207</th>\n",
       "      <td>The Political Legacy of American Slavery *</td>\n",
       "      <td>Geographic Sorting</td>\n",
       "      <td>The interaction in this regression measures th...</td>\n",
       "    </tr>\n",
       "    <tr>\n",
       "      <th>217</th>\n",
       "      <td>The Political Legacy of American Slavery *</td>\n",
       "      <td>Out-migration</td>\n",
       "      <td>However, the key point is that this pattern is...</td>\n",
       "    </tr>\n",
       "    <tr>\n",
       "      <th>377</th>\n",
       "      <td>The Political Legacy of American Slavery *</td>\n",
       "      <td>Conclusion</td>\n",
       "      <td>However, we do not rule out that Southern inst...</td>\n",
       "    </tr>\n",
       "    <tr>\n",
       "      <th>138</th>\n",
       "      <td>The Political Legacy of American Slavery *</td>\n",
       "      <td>Slavery's Effects on Contemporary Outcomes</td>\n",
       "      <td>First, since wealthier or more populous counti...</td>\n",
       "    </tr>\n",
       "    <tr>\n",
       "      <th>530</th>\n",
       "      <td>The Political Legacy of American Slavery *</td>\n",
       "      <td></td>\n",
       "      <td>See Jennings, Stoker and Bowers (2009) for a f...</td>\n",
       "    </tr>\n",
       "  </tbody>\n",
       "</table>\n",
       "</div>"
      ],
      "text/plain": [
       "                                    paper_title  \\\n",
       "106  The Political Legacy of American Slavery *   \n",
       "331  The Political Legacy of American Slavery *   \n",
       "185  The Political Legacy of American Slavery *   \n",
       "156  The Political Legacy of American Slavery *   \n",
       "57   The Political Legacy of American Slavery *   \n",
       "207  The Political Legacy of American Slavery *   \n",
       "217  The Political Legacy of American Slavery *   \n",
       "377  The Political Legacy of American Slavery *   \n",
       "138  The Political Legacy of American Slavery *   \n",
       "530  The Political Legacy of American Slavery *   \n",
       "\n",
       "                                         paper_section  \\\n",
       "106  Outcome Variables Measuring Contemporary White...   \n",
       "331              Mechanization of Southern Agriculture   \n",
       "185  Racial Threat (Contemporary Black Concentrations)   \n",
       "156  Instrumenting for Slavery with Cotton Suitability   \n",
       "57   Historical Persistence of White Political Atti...   \n",
       "207                                 Geographic Sorting   \n",
       "217                                      Out-migration   \n",
       "377                                         Conclusion   \n",
       "138         Slavery's Effects on Contemporary Outcomes   \n",
       "530                                                      \n",
       "\n",
       "                                         sentence_text  \n",
       "106                White-black thermometer difference.  \n",
       "331  For example, where mechanization did not grow ...  \n",
       "185  This method enables us to calculate the contro...  \n",
       "156  13 Column (1) presents the first-stage relatio...  \n",
       "57   On the one hand, Southern institutions such as...  \n",
       "207  The interaction in this regression measures th...  \n",
       "217  However, the key point is that this pattern is...  \n",
       "377  However, we do not rule out that Southern inst...  \n",
       "138  First, since wealthier or more populous counti...  \n",
       "530  See Jennings, Stoker and Bowers (2009) for a f...  "
      ]
     },
     "execution_count": 2,
     "metadata": {},
     "output_type": "execute_result"
    }
   ],
   "source": [
    "%%time\n",
    "\n",
    "files = glob.glob(DIR + 'data/input/demo_papers/thepoliticallegacyofamericanslavery.json')\n",
    "\n",
    "pubs = pd.DataFrame()\n",
    "for file in files: \n",
    "    with open(file, 'r') as f:\n",
    "        data = json.loads(f.read())\n",
    "        file_data = pd.json_normalize(data[\"pdf_parse\"][\"body_text\"])\n",
    "        file_data[\"paper_id\"] = data[\"title\"]\n",
    "    pubs = pd.concat([pubs, file_data])\n",
    "\n",
    "sentences = []\n",
    "\n",
    "for row in pubs.itertuples():\n",
    "    for sent in sent_tokenize(row[1]):\n",
    "        sentences.append((row[7], row[5], sent))\n",
    "\n",
    "df = pd.DataFrame(sentences, columns=['paper_title', 'paper_section', 'sentence_text'])\n",
    "\n",
    "df.sample(10)"
   ]
  },
  {
   "cell_type": "markdown",
   "metadata": {},
   "source": [
    "## Models"
   ]
  },
  {
   "cell_type": "markdown",
   "metadata": {},
   "source": [
    "The **Named Entity Recognition** model is used to predict a span of text that contains a `Dataset` entity. We compare this prediction to the names of the studies we know were used in each paper."
   ]
  },
  {
   "cell_type": "code",
   "execution_count": 3,
   "metadata": {},
   "outputs": [],
   "source": [
    "custom_ner_model = spacy.load(DIR + '/models/ner-v3-20220315')"
   ]
  },
  {
   "cell_type": "markdown",
   "metadata": {},
   "source": [
    "## Predictions"
   ]
  },
  {
   "cell_type": "markdown",
   "metadata": {},
   "source": [
    "* **Acharya, A., Blackwell, M., & Sen, M. (2016). [The political legacy of American slavery](https://app-dimensions-ai.proxy.lib.umich.edu/details/publication/pub.1058867878?search_mode=content&search_text=%22The%20Political%20Legacy%20of%20American%20Slavery%22&search_type=kws&search_field=text_search). The Journal of Politics, 78(3), 621-641.**\n",
    "\n",
    "Our approach finds known ICPSR Studies:\n",
    "\n",
    "* Three Generations Combined, 1965-1997 (ICPSR 4532)\n",
    "* Youth-Parent Socialization Panel Study, 1965-1997: Four Waves Combined (ICPSR 4037)\n",
    "* Historical, Demographic, Economic, and Social Data: The United States, 1790-2002 (ICPSR 2896)\n",
    "* ANES 1984 Time Series Study (ICPSR 8298)\n",
    "* ANES 1986 Time Series Study (ICPSR 8678)\n",
    "* ANES 1988 Time Series Study (ICPSR 9196)\n",
    "* ANES 1990 Time Series Study (ICPSR 9548)\n",
    "* ANES 1992 Time Series Study (ICPSR 6067)\n",
    "* ANES 1994 Time Series Study (ICPSR 6507)\n",
    "* ANES 1996 Time Series Study (ICPSR 6896)\n",
    "* ANES 1998 Time Series Study (ICPSR 2684)\n",
    "\n",
    "Other data found include:\n",
    "* 1860 U.S. Census\n",
    "* 1940 U.S. Census\n",
    "* 2000 U.S. Census\n",
    "* 2010 CCES (Cooperative Congressional Election Study)"
   ]
  },
  {
   "cell_type": "code",
   "execution_count": 4,
   "metadata": {},
   "outputs": [
    {
     "data": {
      "text/html": [
       "<span class=\"tex2jax_ignore\"><div class=\"entities\" style=\"line-height: 2.5; direction: ltr\">Our main explanatory variable and proxy for slavery's prevalence is the proportion of each county's 1860 population that was enslaved, as measured by the \n",
       "<mark class=\"entity\" style=\"background: #ddd; padding: 0.45em 0.6em; margin: 0 0.25em; line-height: 1; border-radius: 0.35em;\">\n",
       "    1860 U.S. Census\n",
       "    <span style=\"font-size: 0.8em; font-weight: bold; line-height: 1; border-radius: 0.35em; vertical-align: middle; margin-left: 0.5rem\">DATASET</span>\n",
       "</mark>\n",
       ".</div></span>"
      ],
      "text/plain": [
       "<IPython.core.display.HTML object>"
      ]
     },
     "metadata": {},
     "output_type": "display_data"
    },
    {
     "data": {
      "text/html": [
       "<span class=\"tex2jax_ignore\"><div class=\"entities\" style=\"line-height: 2.5; direction: ltr\">Since county boundaries have shifted since 1860, we use an area-weighting method to map data from the \n",
       "<mark class=\"entity\" style=\"background: #ddd; padding: 0.45em 0.6em; margin: 0 0.25em; line-height: 1; border-radius: 0.35em;\">\n",
       "    1860 Census\n",
       "    <span style=\"font-size: 0.8em; font-weight: bold; line-height: 1; border-radius: 0.35em; vertical-align: middle; margin-left: 0.5rem\">DATASET</span>\n",
       "</mark>\n",
       " onto county boundaries in 2000, enabling us to estimate the proportion enslaved in 1860 within modern-day counties.</div></span>"
      ],
      "text/plain": [
       "<IPython.core.display.HTML object>"
      ]
     },
     "metadata": {},
     "output_type": "display_data"
    },
    {
     "data": {
      "text/html": [
       "<span class=\"tex2jax_ignore\"><div class=\"entities\" style=\"line-height: 2.5; direction: ltr\">We analyze three county-level outcome measures, which come from the \n",
       "<mark class=\"entity\" style=\"background: #ddd; padding: 0.45em 0.6em; margin: 0 0.25em; line-height: 1; border-radius: 0.35em;\">\n",
       "    Cooperative Congressional Election Study\n",
       "    <span style=\"font-size: 0.8em; font-weight: bold; line-height: 1; border-radius: 0.35em; vertical-align: middle; margin-left: 0.5rem\">DATASET</span>\n",
       "</mark>\n",
       " (\n",
       "<mark class=\"entity\" style=\"background: #ddd; padding: 0.45em 0.6em; margin: 0 0.25em; line-height: 1; border-radius: 0.35em;\">\n",
       "    CCES\n",
       "    <span style=\"font-size: 0.8em; font-weight: bold; line-height: 1; border-radius: 0.35em; vertical-align: middle; margin-left: 0.5rem\">DATASET</span>\n",
       "</mark>\n",
       "), a large survey of American adults (Ansolabehere, 2010) .</div></span>"
      ],
      "text/plain": [
       "<IPython.core.display.HTML object>"
      ]
     },
     "metadata": {},
     "output_type": "display_data"
    },
    {
     "data": {
      "text/html": [
       "<span class=\"tex2jax_ignore\"><div class=\"entities\" style=\"line-height: 2.5; direction: ltr\">We pool \n",
       "<mark class=\"entity\" style=\"background: #ddd; padding: 0.45em 0.6em; margin: 0 0.25em; line-height: 1; border-radius: 0.35em;\">\n",
       "    CCES\n",
       "    <span style=\"font-size: 0.8em; font-weight: bold; line-height: 1; border-radius: 0.35em; vertical-align: middle; margin-left: 0.5rem\">DATASET</span>\n",
       "</mark>\n",
       " data from the 2006, 2008, 2009, 2010 , and 2011 surveys to create a combined data set of over 157,000 respondents.</div></span>"
      ],
      "text/plain": [
       "<IPython.core.display.HTML object>"
      ]
     },
     "metadata": {},
     "output_type": "display_data"
    },
    {
     "data": {
      "text/html": [
       "<span class=\"tex2jax_ignore\"><div class=\"entities\" style=\"line-height: 2.5; direction: ltr\">In addition, we also investigate individual-level black-white thermometer scores from waves of the \n",
       "<mark class=\"entity\" style=\"background: #ddd; padding: 0.45em 0.6em; margin: 0 0.25em; line-height: 1; border-radius: 0.35em;\">\n",
       "    American National Election Survey\n",
       "    <span style=\"font-size: 0.8em; font-weight: bold; line-height: 1; border-radius: 0.35em; vertical-align: middle; margin-left: 0.5rem\">DATASET</span>\n",
       "</mark>\n",
       " (\n",
       "<mark class=\"entity\" style=\"background: #ddd; padding: 0.45em 0.6em; margin: 0 0.25em; line-height: 1; border-radius: 0.35em;\">\n",
       "    ANES\n",
       "    <span style=\"font-size: 0.8em; font-weight: bold; line-height: 1; border-radius: 0.35em; vertical-align: middle; margin-left: 0.5rem\">DATASET</span>\n",
       "</mark>\n",
       ") from 1984 until 1998, a time period where the \n",
       "<mark class=\"entity\" style=\"background: #ddd; padding: 0.45em 0.6em; margin: 0 0.25em; line-height: 1; border-radius: 0.35em;\">\n",
       "    ANES\n",
       "    <span style=\"font-size: 0.8em; font-weight: bold; line-height: 1; border-radius: 0.35em; vertical-align: middle; margin-left: 0.5rem\">DATASET</span>\n",
       "</mark>\n",
       " both used a consistent sampling frame and included county-level identifiers for respondents.</div></span>"
      ],
      "text/plain": [
       "<IPython.core.display.HTML object>"
      ]
     },
     "metadata": {},
     "output_type": "display_data"
    },
    {
     "data": {
      "text/html": [
       "<span class=\"tex2jax_ignore\"><div class=\"entities\" style=\"line-height: 2.5; direction: ltr\">All \n",
       "<mark class=\"entity\" style=\"background: #ddd; padding: 0.45em 0.6em; margin: 0 0.25em; line-height: 1; border-radius: 0.35em;\">\n",
       "    CCES\n",
       "    <span style=\"font-size: 0.8em; font-weight: bold; line-height: 1; border-radius: 0.35em; vertical-align: middle; margin-left: 0.5rem\">DATASET</span>\n",
       "</mark>\n",
       " surveys ask respondents whether they support or oppose affirmative action policies, which are described as &quot;programs [that] give preference to racial minorities and to women in employment and college admissions in order to correct for discrimination&quot; (2008 CCES).</div></span>"
      ],
      "text/plain": [
       "<IPython.core.display.HTML object>"
      ]
     },
     "metadata": {},
     "output_type": "display_data"
    },
    {
     "data": {
      "text/html": [
       "<span class=\"tex2jax_ignore\"><div class=\"entities\" style=\"line-height: 2.5; direction: ltr\">The first question, asked in the 2010 and \n",
       "<mark class=\"entity\" style=\"background: #ddd; padding: 0.45em 0.6em; margin: 0 0.25em; line-height: 1; border-radius: 0.35em;\">\n",
       "    2011 CCES\n",
       "    <span style=\"font-size: 0.8em; font-weight: bold; line-height: 1; border-radius: 0.35em; vertical-align: middle; margin-left: 0.5rem\">DATASET</span>\n",
       "</mark>\n",
       " surveys, asks respondents on a five-point scale whether they agree with the following statement: &quot;The Irish, Italian, Jews and many other minorities overcame prejudice and worked their way up.</div></span>"
      ],
      "text/plain": [
       "<IPython.core.display.HTML object>"
      ]
     },
     "metadata": {},
     "output_type": "display_data"
    },
    {
     "data": {
      "text/html": [
       "<span class=\"tex2jax_ignore\"><div class=\"entities\" style=\"line-height: 2.5; direction: ltr\">These &quot;1860 covariates, &quot; unless otherwise noted, come from the \n",
       "<mark class=\"entity\" style=\"background: #ddd; padding: 0.45em 0.6em; margin: 0 0.25em; line-height: 1; border-radius: 0.35em;\">\n",
       "    1860 U.S. Census\n",
       "    <span style=\"font-size: 0.8em; font-weight: bold; line-height: 1; border-radius: 0.35em; vertical-align: middle; margin-left: 0.5rem\">DATASET</span>\n",
       "</mark>\n",
       " and address possible differences between slaveholding and nonslaveholding counties.</div></span>"
      ],
      "text/plain": [
       "<IPython.core.display.HTML object>"
      ]
     },
     "metadata": {},
     "output_type": "display_data"
    },
    {
     "data": {
      "text/html": [
       "<span class=\"tex2jax_ignore\"><div class=\"entities\" style=\"line-height: 2.5; direction: ltr\">First, we include the &quot;mediator&quot; (here, proportion black in 2000 as measured by the \n",
       "<mark class=\"entity\" style=\"background: #ddd; padding: 0.45em 0.6em; margin: 0 0.25em; line-height: 1; border-radius: 0.35em;\">\n",
       "    2000 U.S. Census\n",
       "    <span style=\"font-size: 0.8em; font-weight: bold; line-height: 1; border-radius: 0.35em; vertical-align: middle; margin-left: 0.5rem\">DATASET</span>\n",
       "</mark>\n",
       ") as a covariate in the baseline specification, along with the treatment of interest (proportion slave in 1860).</div></span>"
      ],
      "text/plain": [
       "<IPython.core.display.HTML object>"
      ]
     },
     "metadata": {},
     "output_type": "display_data"
    },
    {
     "data": {
      "text/html": [
       "<span class=\"tex2jax_ignore\"><div class=\"entities\" style=\"line-height: 2.5; direction: ltr\">To investigate this possibility, we look into patterns of migration in a five-year snapshot from 1935-1940, drawing on the public use micro-sample (PUMS) of the \n",
       "<mark class=\"entity\" style=\"background: #ddd; padding: 0.45em 0.6em; margin: 0 0.25em; line-height: 1; border-radius: 0.35em;\">\n",
       "    1940 U.S. Census\n",
       "    <span style=\"font-size: 0.8em; font-weight: bold; line-height: 1; border-radius: 0.35em; vertical-align: middle; margin-left: 0.5rem\">DATASET</span>\n",
       "</mark>\n",
       " (Ruggles et al., 2010) .</div></span>"
      ],
      "text/plain": [
       "<IPython.core.display.HTML object>"
      ]
     },
     "metadata": {},
     "output_type": "display_data"
    },
    {
     "data": {
      "text/html": [
       "<span class=\"tex2jax_ignore\"><div class=\"entities\" style=\"line-height: 2.5; direction: ltr\">Second, we also provide additional evidence in Appendix D, in which we analyze contemporary mobility data from the \n",
       "<mark class=\"entity\" style=\"background: #ddd; padding: 0.45em 0.6em; margin: 0 0.25em; line-height: 1; border-radius: 0.35em;\">\n",
       "    2000 U.S. Census\n",
       "    <span style=\"font-size: 0.8em; font-weight: bold; line-height: 1; border-radius: 0.35em; vertical-align: middle; margin-left: 0.5rem\">DATASET</span>\n",
       "</mark>\n",
       ".</div></span>"
      ],
      "text/plain": [
       "<IPython.core.display.HTML object>"
      ]
     },
     "metadata": {},
     "output_type": "display_data"
    },
    {
     "data": {
      "text/html": [
       "<span class=\"tex2jax_ignore\"><div class=\"entities\" style=\"line-height: 2.5; direction: ltr\">Appendix Table A .17 draws on data from the the \n",
       "<mark class=\"entity\" style=\"background: #ddd; padding: 0.45em 0.6em; margin: 0 0.25em; line-height: 1; border-radius: 0.35em;\">\n",
       "    1925 Agricultural Census\n",
       "    <span style=\"font-size: 0.8em; font-weight: bold; line-height: 1; border-radius: 0.35em; vertical-align: middle; margin-left: 0.5rem\">DATASET</span>\n",
       "</mark>\n",
       " (Haines, 2010) and shows that, in comparison to white farmers, black farmers in former high-slave areas were significantly worse off than those in other areas of the South.</div></span>"
      ],
      "text/plain": [
       "<IPython.core.display.HTML object>"
      ]
     },
     "metadata": {},
     "output_type": "display_data"
    },
    {
     "data": {
      "text/html": [
       "<span class=\"tex2jax_ignore\"><div class=\"entities\" style=\"line-height: 2.5; direction: ltr\">29 We interact the proportion of slaves in 1860 with the change in the number of tractors per 100,000 acres of agricultural land in the county between 1930 and 1940, which we collect from the 1930 and \n",
       "<mark class=\"entity\" style=\"background: #ddd; padding: 0.45em 0.6em; margin: 0 0.25em; line-height: 1; border-radius: 0.35em;\">\n",
       "    1940 Agricultural Censuses\n",
       "    <span style=\"font-size: 0.8em; font-weight: bold; line-height: 1; border-radius: 0.35em; vertical-align: middle; margin-left: 0.5rem\">DATASET</span>\n",
       "</mark>\n",
       " (Haines, 2010) .</div></span>"
      ],
      "text/plain": [
       "<IPython.core.display.HTML object>"
      ]
     },
     "metadata": {},
     "output_type": "display_data"
    },
    {
     "data": {
      "text/html": [
       "<span class=\"tex2jax_ignore\"><div class=\"entities\" style=\"line-height: 2.5; direction: ltr\">To explore the inheritance of racial attitudes from previous generations, we rely on the \n",
       "<mark class=\"entity\" style=\"background: #ddd; padding: 0.45em 0.6em; margin: 0 0.25em; line-height: 1; border-radius: 0.35em;\">\n",
       "    Youth-Parent Socialization Panel Survey\n",
       "    <span style=\"font-size: 0.8em; font-weight: bold; line-height: 1; border-radius: 0.35em; vertical-align: middle; margin-left: 0.5rem\">DATASET</span>\n",
       "</mark>\n",
       ", which measured the racial attitudes of a national probability sample of high school senior students in 1965 along with their parents (Jennings et al., 2005; Elliot, 2007) .</div></span>"
      ],
      "text/plain": [
       "<IPython.core.display.HTML object>"
      ]
     },
     "metadata": {},
     "output_type": "display_data"
    },
    {
     "data": {
      "text/html": [
       "<span class=\"tex2jax_ignore\"><div class=\"entities\" style=\"line-height: 2.5; direction: ltr\">Zip-code level data comes from the \n",
       "<mark class=\"entity\" style=\"background: #ddd; padding: 0.45em 0.6em; margin: 0 0.25em; line-height: 1; border-radius: 0.35em;\">\n",
       "    American Community Survey\n",
       "    <span style=\"font-size: 0.8em; font-weight: bold; line-height: 1; border-radius: 0.35em; vertical-align: middle; margin-left: 0.5rem\">DATASET</span>\n",
       "</mark>\n",
       ".</div></span>"
      ],
      "text/plain": [
       "<IPython.core.display.HTML object>"
      ]
     },
     "metadata": {},
     "output_type": "display_data"
    },
    {
     "data": {
      "text/html": [
       "<span class=\"tex2jax_ignore\"><div class=\"entities\" style=\"line-height: 2.5; direction: ltr\">First, we attempt to proxy the antebellum attitudes of whites toward slaves by mea-suring the relative mortality of slaves to whites, as measured by the \n",
       "<mark class=\"entity\" style=\"background: #ddd; padding: 0.45em 0.6em; margin: 0 0.25em; line-height: 1; border-radius: 0.35em;\">\n",
       "    1860 Census\n",
       "    <span style=\"font-size: 0.8em; font-weight: bold; line-height: 1; border-radius: 0.35em; vertical-align: middle; margin-left: 0.5rem\">DATASET</span>\n",
       "</mark>\n",
       ".</div></span>"
      ],
      "text/plain": [
       "<IPython.core.display.HTML object>"
      ]
     },
     "metadata": {},
     "output_type": "display_data"
    },
    {
     "data": {
      "text/html": [
       "<span class=\"tex2jax_ignore\"><div class=\"entities\" style=\"line-height: 2.5; direction: ltr\">In particular we use samples from the slave schedules of the \n",
       "<mark class=\"entity\" style=\"background: #ddd; padding: 0.45em 0.6em; margin: 0 0.25em; line-height: 1; border-radius: 0.35em;\">\n",
       "    1860 U.S. Census\n",
       "    <span style=\"font-size: 0.8em; font-weight: bold; line-height: 1; border-radius: 0.35em; vertical-align: middle; margin-left: 0.5rem\">DATASET</span>\n",
       "</mark>\n",
       " to calculate the average occupant size of slave quarters on farms in a county (Menard et al., 2004) .</div></span>"
      ],
      "text/plain": [
       "<IPython.core.display.HTML object>"
      ]
     },
     "metadata": {},
     "output_type": "display_data"
    },
    {
     "data": {
      "text/html": [
       "<span class=\"tex2jax_ignore\"><div class=\"entities\" style=\"line-height: 2.5; direction: ltr\">We also present some suggestive evidence against geographic sorting using data on between-county migration from 1995 to 2000 from the \n",
       "<mark class=\"entity\" style=\"background: #ddd; padding: 0.45em 0.6em; margin: 0 0.25em; line-height: 1; border-radius: 0.35em;\">\n",
       "    2000 U.S. Census\n",
       "    <span style=\"font-size: 0.8em; font-weight: bold; line-height: 1; border-radius: 0.35em; vertical-align: middle; margin-left: 0.5rem\">DATASET</span>\n",
       "</mark>\n",
       " (Bureau, 2001) .</div></span>"
      ],
      "text/plain": [
       "<IPython.core.display.HTML object>"
      ]
     },
     "metadata": {},
     "output_type": "display_data"
    },
    {
     "data": {
      "text/html": [
       "<span class=\"tex2jax_ignore\"><div class=\"entities\" style=\"line-height: 2.5; direction: ltr\">We use county-level data for the \n",
       "<mark class=\"entity\" style=\"background: #ddd; padding: 0.45em 0.6em; margin: 0 0.25em; line-height: 1; border-radius: 0.35em;\">\n",
       "    ANES\n",
       "    <span style=\"font-size: 0.8em; font-weight: bold; line-height: 1; border-radius: 0.35em; vertical-align: middle; margin-left: 0.5rem\">DATASET</span>\n",
       "</mark>\n",
       " measures to side-step the issue of clustering by county in the 2SLS model.</div></span>"
      ],
      "text/plain": [
       "<IPython.core.display.HTML object>"
      ]
     },
     "metadata": {},
     "output_type": "display_data"
    },
    {
     "data": {
      "text/html": [
       "<span class=\"tex2jax_ignore\"><div class=\"entities\" style=\"line-height: 2.5; direction: ltr\">See the \n",
       "<mark class=\"entity\" style=\"background: #ddd; padding: 0.45em 0.6em; margin: 0 0.25em; line-height: 1; border-radius: 0.35em;\">\n",
       "    IPUMS\n",
       "    <span style=\"font-size: 0.8em; font-weight: bold; line-height: 1; border-radius: 0.35em; vertical-align: middle; margin-left: 0.5rem\">DATASET</span>\n",
       "</mark>\n",
       " documentation at https://usa.ipums.org/ for a complete description of these cen-</div></span>"
      ],
      "text/plain": [
       "<IPython.core.display.HTML object>"
      ]
     },
     "metadata": {},
     "output_type": "display_data"
    },
    {
     "data": {
      "text/html": [
       "<span class=\"tex2jax_ignore\"><div class=\"entities\" style=\"line-height: 2.5; direction: ltr\">We coded the mortality information from the original manuscripts of the Mortality Schedules of the \n",
       "<mark class=\"entity\" style=\"background: #ddd; padding: 0.45em 0.6em; margin: 0 0.25em; line-height: 1; border-radius: 0.35em;\">\n",
       "    1860 U.S. Census\n",
       "    <span style=\"font-size: 0.8em; font-weight: bold; line-height: 1; border-radius: 0.35em; vertical-align: middle; margin-left: 0.5rem\">DATASET</span>\n",
       "</mark>\n",
       ", which asked census takers to record all deaths that occurred in the year 1859.</div></span>"
      ],
      "text/plain": [
       "<IPython.core.display.HTML object>"
      ]
     },
     "metadata": {},
     "output_type": "display_data"
    }
   ],
   "source": [
    "candidates = df['sentence_text'].to_list()\n",
    "\n",
    "for candidate in candidates:\n",
    "    label = set()\n",
    "    doc = custom_ner_model(candidate)\n",
    "    if len(doc.ents) > 0:\n",
    "        label.add(doc.ents)\n",
    "        displacy.render(doc, style=\"ent\", jupyter=True)"
   ]
  },
  {
   "cell_type": "markdown",
   "metadata": {},
   "source": [
    "ICPSR Study Names (to match)"
   ]
  },
  {
   "cell_type": "code",
   "execution_count": 5,
   "metadata": {},
   "outputs": [],
   "source": [
    "def extract_ents(text):\n",
    "    \"\"\"Extract named entities, and beginning, middle and end idx \n",
    "    \n",
    "    Keyword arguments:\n",
    "    text -- the actual text source from which to extract entities\n",
    "    \n",
    "    \"\"\"\n",
    "#     return [(ent.text, ent.start_char, ent.end_char, ent.label_) for ent in nlp(text).ents]\n",
    "#     return [(ent.text, ent.label_) for ent in custom_ner_model(text).ents]\n",
    "\n",
    "    doc = custom_ner_model(text)\n",
    "    if len(doc.ents) > 0:\n",
    "        return clean_text2(doc.ents)\n",
    "    else:\n",
    "        return None\n",
    "\n",
    "def predict_ents(df):\n",
    "    \"\"\"Create new column in data frame with named entity tuple extracted.\n",
    "    \n",
    "    Keyword arguments:\n",
    "    df -- a dataframe object\n",
    "    \n",
    "    \"\"\"\n",
    "    df['dataset_prediction'] = df['sentence_text'].apply(extract_ents)"
   ]
  },
  {
   "cell_type": "code",
   "execution_count": 6,
   "metadata": {},
   "outputs": [
    {
     "name": "stdout",
     "output_type": "stream",
     "text": [
      "CPU times: user 1min 7s, sys: 102 ms, total: 1min 7s\n",
      "Wall time: 1min 8s\n"
     ]
    }
   ],
   "source": [
    "%%time\n",
    "\n",
    "predict_ents(df)"
   ]
  },
  {
   "cell_type": "code",
   "execution_count": 7,
   "metadata": {},
   "outputs": [
    {
     "data": {
      "text/html": [
       "<div>\n",
       "<style scoped>\n",
       "    .dataframe tbody tr th:only-of-type {\n",
       "        vertical-align: middle;\n",
       "    }\n",
       "\n",
       "    .dataframe tbody tr th {\n",
       "        vertical-align: top;\n",
       "    }\n",
       "\n",
       "    .dataframe thead th {\n",
       "        text-align: right;\n",
       "    }\n",
       "</style>\n",
       "<table border=\"1\" class=\"dataframe\">\n",
       "  <thead>\n",
       "    <tr style=\"text-align: right;\">\n",
       "      <th>dataset_prediction</th>\n",
       "      <th>1860 Census</th>\n",
       "      <th>1860 U S Census</th>\n",
       "      <th>1925 Agricultural Census</th>\n",
       "      <th>1940 Agricultural Censuses</th>\n",
       "      <th>1940 U S Census</th>\n",
       "      <th>2000 U S Census</th>\n",
       "      <th>2011 CCES</th>\n",
       "      <th>ANES</th>\n",
       "      <th>American Community Survey</th>\n",
       "      <th>American National Election Survey ANES ANES</th>\n",
       "      <th>CCES</th>\n",
       "      <th>Cooperative Congressional Election Study CCES</th>\n",
       "      <th>IPUMS</th>\n",
       "      <th>Youth Parent Socialization Panel Survey</th>\n",
       "    </tr>\n",
       "    <tr>\n",
       "      <th>paper_section_clean</th>\n",
       "      <th></th>\n",
       "      <th></th>\n",
       "      <th></th>\n",
       "      <th></th>\n",
       "      <th></th>\n",
       "      <th></th>\n",
       "      <th></th>\n",
       "      <th></th>\n",
       "      <th></th>\n",
       "      <th></th>\n",
       "      <th></th>\n",
       "      <th></th>\n",
       "      <th></th>\n",
       "      <th></th>\n",
       "    </tr>\n",
       "  </thead>\n",
       "  <tbody>\n",
       "    <tr>\n",
       "      <th></th>\n",
       "      <td>0</td>\n",
       "      <td>1</td>\n",
       "      <td>0</td>\n",
       "      <td>0</td>\n",
       "      <td>0</td>\n",
       "      <td>0</td>\n",
       "      <td>0</td>\n",
       "      <td>1</td>\n",
       "      <td>0</td>\n",
       "      <td>0</td>\n",
       "      <td>0</td>\n",
       "      <td>0</td>\n",
       "      <td>1</td>\n",
       "      <td>0</td>\n",
       "    </tr>\n",
       "    <tr>\n",
       "      <th>c supplemental information antebellum measures</th>\n",
       "      <td>1</td>\n",
       "      <td>1</td>\n",
       "      <td>0</td>\n",
       "      <td>0</td>\n",
       "      <td>0</td>\n",
       "      <td>0</td>\n",
       "      <td>0</td>\n",
       "      <td>0</td>\n",
       "      <td>0</td>\n",
       "      <td>0</td>\n",
       "      <td>0</td>\n",
       "      <td>0</td>\n",
       "      <td>0</td>\n",
       "      <td>0</td>\n",
       "    </tr>\n",
       "    <tr>\n",
       "      <th>conclusion</th>\n",
       "      <td>0</td>\n",
       "      <td>0</td>\n",
       "      <td>0</td>\n",
       "      <td>0</td>\n",
       "      <td>0</td>\n",
       "      <td>0</td>\n",
       "      <td>0</td>\n",
       "      <td>0</td>\n",
       "      <td>1</td>\n",
       "      <td>0</td>\n",
       "      <td>0</td>\n",
       "      <td>0</td>\n",
       "      <td>0</td>\n",
       "      <td>0</td>\n",
       "    </tr>\n",
       "    <tr>\n",
       "      <th>d supplemental information additional evidence on geographic sorting</th>\n",
       "      <td>0</td>\n",
       "      <td>0</td>\n",
       "      <td>0</td>\n",
       "      <td>0</td>\n",
       "      <td>0</td>\n",
       "      <td>1</td>\n",
       "      <td>0</td>\n",
       "      <td>0</td>\n",
       "      <td>0</td>\n",
       "      <td>0</td>\n",
       "      <td>0</td>\n",
       "      <td>0</td>\n",
       "      <td>0</td>\n",
       "      <td>0</td>\n",
       "    </tr>\n",
       "    <tr>\n",
       "      <th>geographic sorting</th>\n",
       "      <td>0</td>\n",
       "      <td>0</td>\n",
       "      <td>0</td>\n",
       "      <td>0</td>\n",
       "      <td>1</td>\n",
       "      <td>0</td>\n",
       "      <td>0</td>\n",
       "      <td>0</td>\n",
       "      <td>0</td>\n",
       "      <td>0</td>\n",
       "      <td>0</td>\n",
       "      <td>0</td>\n",
       "      <td>0</td>\n",
       "      <td>0</td>\n",
       "    </tr>\n",
       "    <tr>\n",
       "      <th>historical slave data and contemporary public opinion data</th>\n",
       "      <td>1</td>\n",
       "      <td>1</td>\n",
       "      <td>0</td>\n",
       "      <td>0</td>\n",
       "      <td>0</td>\n",
       "      <td>0</td>\n",
       "      <td>0</td>\n",
       "      <td>0</td>\n",
       "      <td>0</td>\n",
       "      <td>0</td>\n",
       "      <td>0</td>\n",
       "      <td>0</td>\n",
       "      <td>0</td>\n",
       "      <td>0</td>\n",
       "    </tr>\n",
       "    <tr>\n",
       "      <th>intergenerational transmission of beliefs</th>\n",
       "      <td>0</td>\n",
       "      <td>0</td>\n",
       "      <td>0</td>\n",
       "      <td>0</td>\n",
       "      <td>0</td>\n",
       "      <td>0</td>\n",
       "      <td>0</td>\n",
       "      <td>0</td>\n",
       "      <td>0</td>\n",
       "      <td>0</td>\n",
       "      <td>0</td>\n",
       "      <td>0</td>\n",
       "      <td>0</td>\n",
       "      <td>1</td>\n",
       "    </tr>\n",
       "    <tr>\n",
       "      <th>lynchings and other forms of suppression</th>\n",
       "      <td>0</td>\n",
       "      <td>0</td>\n",
       "      <td>1</td>\n",
       "      <td>0</td>\n",
       "      <td>0</td>\n",
       "      <td>0</td>\n",
       "      <td>0</td>\n",
       "      <td>0</td>\n",
       "      <td>0</td>\n",
       "      <td>0</td>\n",
       "      <td>0</td>\n",
       "      <td>0</td>\n",
       "      <td>0</td>\n",
       "      <td>0</td>\n",
       "    </tr>\n",
       "    <tr>\n",
       "      <th>mechanization of southern agriculture</th>\n",
       "      <td>0</td>\n",
       "      <td>0</td>\n",
       "      <td>0</td>\n",
       "      <td>1</td>\n",
       "      <td>0</td>\n",
       "      <td>0</td>\n",
       "      <td>0</td>\n",
       "      <td>0</td>\n",
       "      <td>0</td>\n",
       "      <td>0</td>\n",
       "      <td>0</td>\n",
       "      <td>0</td>\n",
       "      <td>0</td>\n",
       "      <td>0</td>\n",
       "    </tr>\n",
       "    <tr>\n",
       "      <th>out migration</th>\n",
       "      <td>0</td>\n",
       "      <td>0</td>\n",
       "      <td>0</td>\n",
       "      <td>0</td>\n",
       "      <td>0</td>\n",
       "      <td>1</td>\n",
       "      <td>0</td>\n",
       "      <td>0</td>\n",
       "      <td>0</td>\n",
       "      <td>0</td>\n",
       "      <td>0</td>\n",
       "      <td>0</td>\n",
       "      <td>0</td>\n",
       "      <td>0</td>\n",
       "    </tr>\n",
       "    <tr>\n",
       "      <th>outcome variables measuring contemporary white political and racial attitudes</th>\n",
       "      <td>0</td>\n",
       "      <td>0</td>\n",
       "      <td>0</td>\n",
       "      <td>0</td>\n",
       "      <td>0</td>\n",
       "      <td>0</td>\n",
       "      <td>1</td>\n",
       "      <td>0</td>\n",
       "      <td>0</td>\n",
       "      <td>1</td>\n",
       "      <td>2</td>\n",
       "      <td>1</td>\n",
       "      <td>0</td>\n",
       "      <td>0</td>\n",
       "    </tr>\n",
       "    <tr>\n",
       "      <th>racial threat contemporary black concentrations</th>\n",
       "      <td>0</td>\n",
       "      <td>0</td>\n",
       "      <td>0</td>\n",
       "      <td>0</td>\n",
       "      <td>0</td>\n",
       "      <td>1</td>\n",
       "      <td>0</td>\n",
       "      <td>0</td>\n",
       "      <td>0</td>\n",
       "      <td>0</td>\n",
       "      <td>0</td>\n",
       "      <td>0</td>\n",
       "      <td>0</td>\n",
       "      <td>0</td>\n",
       "    </tr>\n",
       "    <tr>\n",
       "      <th>slavery s effects on contemporary outcomes</th>\n",
       "      <td>0</td>\n",
       "      <td>1</td>\n",
       "      <td>0</td>\n",
       "      <td>0</td>\n",
       "      <td>0</td>\n",
       "      <td>0</td>\n",
       "      <td>0</td>\n",
       "      <td>0</td>\n",
       "      <td>0</td>\n",
       "      <td>0</td>\n",
       "      <td>0</td>\n",
       "      <td>0</td>\n",
       "      <td>0</td>\n",
       "      <td>0</td>\n",
       "    </tr>\n",
       "  </tbody>\n",
       "</table>\n",
       "</div>"
      ],
      "text/plain": [
       "dataset_prediction                                   1860 Census   \\\n",
       "paper_section_clean                                                 \n",
       "                                                                0   \n",
       "c supplemental information antebellum measures                  1   \n",
       "conclusion                                                      0   \n",
       "d supplemental information additional evidence ...              0   \n",
       "geographic sorting                                              0   \n",
       "historical slave data and contemporary public o...              1   \n",
       "intergenerational transmission of beliefs                       0   \n",
       "lynchings and other forms of suppression                        0   \n",
       "mechanization of southern agriculture                           0   \n",
       "out migration                                                   0   \n",
       "outcome variables measuring contemporary white ...              0   \n",
       "racial threat contemporary black concentrations                 0   \n",
       "slavery s effects on contemporary outcomes                      0   \n",
       "\n",
       "dataset_prediction                                   1860 U S Census   \\\n",
       "paper_section_clean                                                     \n",
       "                                                                    1   \n",
       "c supplemental information antebellum measures                      1   \n",
       "conclusion                                                          0   \n",
       "d supplemental information additional evidence ...                  0   \n",
       "geographic sorting                                                  0   \n",
       "historical slave data and contemporary public o...                  1   \n",
       "intergenerational transmission of beliefs                           0   \n",
       "lynchings and other forms of suppression                            0   \n",
       "mechanization of southern agriculture                               0   \n",
       "out migration                                                       0   \n",
       "outcome variables measuring contemporary white ...                  0   \n",
       "racial threat contemporary black concentrations                     0   \n",
       "slavery s effects on contemporary outcomes                          1   \n",
       "\n",
       "dataset_prediction                                   1925 Agricultural Census   \\\n",
       "paper_section_clean                                                              \n",
       "                                                                             0   \n",
       "c supplemental information antebellum measures                               0   \n",
       "conclusion                                                                   0   \n",
       "d supplemental information additional evidence ...                           0   \n",
       "geographic sorting                                                           0   \n",
       "historical slave data and contemporary public o...                           0   \n",
       "intergenerational transmission of beliefs                                    0   \n",
       "lynchings and other forms of suppression                                     1   \n",
       "mechanization of southern agriculture                                        0   \n",
       "out migration                                                                0   \n",
       "outcome variables measuring contemporary white ...                           0   \n",
       "racial threat contemporary black concentrations                              0   \n",
       "slavery s effects on contemporary outcomes                                   0   \n",
       "\n",
       "dataset_prediction                                   1940 Agricultural Censuses   \\\n",
       "paper_section_clean                                                                \n",
       "                                                                               0   \n",
       "c supplemental information antebellum measures                                 0   \n",
       "conclusion                                                                     0   \n",
       "d supplemental information additional evidence ...                             0   \n",
       "geographic sorting                                                             0   \n",
       "historical slave data and contemporary public o...                             0   \n",
       "intergenerational transmission of beliefs                                      0   \n",
       "lynchings and other forms of suppression                                       0   \n",
       "mechanization of southern agriculture                                          1   \n",
       "out migration                                                                  0   \n",
       "outcome variables measuring contemporary white ...                             0   \n",
       "racial threat contemporary black concentrations                                0   \n",
       "slavery s effects on contemporary outcomes                                     0   \n",
       "\n",
       "dataset_prediction                                   1940 U S Census   \\\n",
       "paper_section_clean                                                     \n",
       "                                                                    0   \n",
       "c supplemental information antebellum measures                      0   \n",
       "conclusion                                                          0   \n",
       "d supplemental information additional evidence ...                  0   \n",
       "geographic sorting                                                  1   \n",
       "historical slave data and contemporary public o...                  0   \n",
       "intergenerational transmission of beliefs                           0   \n",
       "lynchings and other forms of suppression                            0   \n",
       "mechanization of southern agriculture                               0   \n",
       "out migration                                                       0   \n",
       "outcome variables measuring contemporary white ...                  0   \n",
       "racial threat contemporary black concentrations                     0   \n",
       "slavery s effects on contemporary outcomes                          0   \n",
       "\n",
       "dataset_prediction                                   2000 U S Census   \\\n",
       "paper_section_clean                                                     \n",
       "                                                                    0   \n",
       "c supplemental information antebellum measures                      0   \n",
       "conclusion                                                          0   \n",
       "d supplemental information additional evidence ...                  1   \n",
       "geographic sorting                                                  0   \n",
       "historical slave data and contemporary public o...                  0   \n",
       "intergenerational transmission of beliefs                           0   \n",
       "lynchings and other forms of suppression                            0   \n",
       "mechanization of southern agriculture                               0   \n",
       "out migration                                                       1   \n",
       "outcome variables measuring contemporary white ...                  0   \n",
       "racial threat contemporary black concentrations                     1   \n",
       "slavery s effects on contemporary outcomes                          0   \n",
       "\n",
       "dataset_prediction                                   2011 CCES    ANES   \\\n",
       "paper_section_clean                                                       \n",
       "                                                              0       1   \n",
       "c supplemental information antebellum measures                0       0   \n",
       "conclusion                                                    0       0   \n",
       "d supplemental information additional evidence ...            0       0   \n",
       "geographic sorting                                            0       0   \n",
       "historical slave data and contemporary public o...            0       0   \n",
       "intergenerational transmission of beliefs                     0       0   \n",
       "lynchings and other forms of suppression                      0       0   \n",
       "mechanization of southern agriculture                         0       0   \n",
       "out migration                                                 0       0   \n",
       "outcome variables measuring contemporary white ...            1       0   \n",
       "racial threat contemporary black concentrations               0       0   \n",
       "slavery s effects on contemporary outcomes                    0       0   \n",
       "\n",
       "dataset_prediction                                   American Community Survey   \\\n",
       "paper_section_clean                                                               \n",
       "                                                                              0   \n",
       "c supplemental information antebellum measures                                0   \n",
       "conclusion                                                                    1   \n",
       "d supplemental information additional evidence ...                            0   \n",
       "geographic sorting                                                            0   \n",
       "historical slave data and contemporary public o...                            0   \n",
       "intergenerational transmission of beliefs                                     0   \n",
       "lynchings and other forms of suppression                                      0   \n",
       "mechanization of southern agriculture                                         0   \n",
       "out migration                                                                 0   \n",
       "outcome variables measuring contemporary white ...                            0   \n",
       "racial threat contemporary black concentrations                               0   \n",
       "slavery s effects on contemporary outcomes                                    0   \n",
       "\n",
       "dataset_prediction                                   American National Election Survey ANES ANES   \\\n",
       "paper_section_clean                                                                                 \n",
       "                                                                                                0   \n",
       "c supplemental information antebellum measures                                                  0   \n",
       "conclusion                                                                                      0   \n",
       "d supplemental information additional evidence ...                                              0   \n",
       "geographic sorting                                                                              0   \n",
       "historical slave data and contemporary public o...                                              0   \n",
       "intergenerational transmission of beliefs                                                       0   \n",
       "lynchings and other forms of suppression                                                        0   \n",
       "mechanization of southern agriculture                                                           0   \n",
       "out migration                                                                                   0   \n",
       "outcome variables measuring contemporary white ...                                              1   \n",
       "racial threat contemporary black concentrations                                                 0   \n",
       "slavery s effects on contemporary outcomes                                                      0   \n",
       "\n",
       "dataset_prediction                                   CCES   \\\n",
       "paper_section_clean                                          \n",
       "                                                         0   \n",
       "c supplemental information antebellum measures           0   \n",
       "conclusion                                               0   \n",
       "d supplemental information additional evidence ...       0   \n",
       "geographic sorting                                       0   \n",
       "historical slave data and contemporary public o...       0   \n",
       "intergenerational transmission of beliefs                0   \n",
       "lynchings and other forms of suppression                 0   \n",
       "mechanization of southern agriculture                    0   \n",
       "out migration                                            0   \n",
       "outcome variables measuring contemporary white ...       2   \n",
       "racial threat contemporary black concentrations          0   \n",
       "slavery s effects on contemporary outcomes               0   \n",
       "\n",
       "dataset_prediction                                   Cooperative Congressional Election Study CCES   \\\n",
       "paper_section_clean                                                                                   \n",
       "                                                                                                  0   \n",
       "c supplemental information antebellum measures                                                    0   \n",
       "conclusion                                                                                        0   \n",
       "d supplemental information additional evidence ...                                                0   \n",
       "geographic sorting                                                                                0   \n",
       "historical slave data and contemporary public o...                                                0   \n",
       "intergenerational transmission of beliefs                                                         0   \n",
       "lynchings and other forms of suppression                                                          0   \n",
       "mechanization of southern agriculture                                                             0   \n",
       "out migration                                                                                     0   \n",
       "outcome variables measuring contemporary white ...                                                1   \n",
       "racial threat contemporary black concentrations                                                   0   \n",
       "slavery s effects on contemporary outcomes                                                        0   \n",
       "\n",
       "dataset_prediction                                   IPUMS   \\\n",
       "paper_section_clean                                           \n",
       "                                                          1   \n",
       "c supplemental information antebellum measures            0   \n",
       "conclusion                                                0   \n",
       "d supplemental information additional evidence ...        0   \n",
       "geographic sorting                                        0   \n",
       "historical slave data and contemporary public o...        0   \n",
       "intergenerational transmission of beliefs                 0   \n",
       "lynchings and other forms of suppression                  0   \n",
       "mechanization of southern agriculture                     0   \n",
       "out migration                                             0   \n",
       "outcome variables measuring contemporary white ...        0   \n",
       "racial threat contemporary black concentrations           0   \n",
       "slavery s effects on contemporary outcomes                0   \n",
       "\n",
       "dataset_prediction                                   Youth Parent Socialization Panel Survey   \n",
       "paper_section_clean                                                                            \n",
       "                                                                                            0  \n",
       "c supplemental information antebellum measures                                              0  \n",
       "conclusion                                                                                  0  \n",
       "d supplemental information additional evidence ...                                          0  \n",
       "geographic sorting                                                                          0  \n",
       "historical slave data and contemporary public o...                                          0  \n",
       "intergenerational transmission of beliefs                                                   1  \n",
       "lynchings and other forms of suppression                                                    0  \n",
       "mechanization of southern agriculture                                                       0  \n",
       "out migration                                                                               0  \n",
       "outcome variables measuring contemporary white ...                                          0  \n",
       "racial threat contemporary black concentrations                                             0  \n",
       "slavery s effects on contemporary outcomes                                                  0  "
      ]
     },
     "execution_count": 7,
     "metadata": {},
     "output_type": "execute_result"
    }
   ],
   "source": [
    "df['paper_section_clean'] = df['paper_section'].apply(clean_text)\n",
    "pd.crosstab([df.paper_section_clean], df.dataset_prediction)"
   ]
  },
  {
   "cell_type": "code",
   "execution_count": 8,
   "metadata": {},
   "outputs": [
    {
     "data": {
      "text/plain": [
       "                                                                                      50\n",
       "outcome variables measuring contemporary white political and racial attitudes         40\n",
       "conclusion                                                                            39\n",
       "political and economic incentives for black repression in the postbellum years        32\n",
       "introduction                                                                          32\n",
       "timing of the political divergence and the importance of the reconstruction period    31\n",
       "slavery s effects on contemporary outcomes                                            29\n",
       "d supplemental information additional evidence on geographic sorting                  24\n",
       "c supplemental information antebellum measures                                        23\n",
       "intergenerational transmission of beliefs                                             23\n",
       "racial threat contemporary black concentrations                                       23\n",
       "Name: paper_section_clean, dtype: int64"
      ]
     },
     "execution_count": 8,
     "metadata": {},
     "output_type": "execute_result"
    }
   ],
   "source": [
    "df.paper_section_clean.value_counts().sort_values().nlargest(11)"
   ]
  },
  {
   "cell_type": "markdown",
   "metadata": {},
   "source": [
    "The 20 most mentioned data entities in the article"
   ]
  },
  {
   "cell_type": "code",
   "execution_count": 9,
   "metadata": {},
   "outputs": [
    {
     "data": {
      "image/png": "[encoded data removed]",
      "text/plain": [
       "<Figure size 864x576 with 1 Axes>"
      ]
     },
     "metadata": {
      "needs_background": "light"
     },
     "output_type": "display_data"
    }
   ],
   "source": [
    "pred_datasets = df['dataset_prediction'].value_counts().sort_values()\n",
    "most_mentioned = pred_datasets.sort_values()\n",
    "most_mentioned.plot(kind='barh',figsize=(12,8));"
   ]
  },
  {
   "cell_type": "code",
   "execution_count": null,
   "metadata": {},
   "outputs": [],
   "source": []
  }
 ],
 "metadata": {
  "kernelspec": {
   "display_name": "Python 3",
   "language": "python",
   "name": "python3"
  },
  "language_info": {
   "codemirror_mode": {
    "name": "ipython",
    "version": 3
   },
   "file_extension": ".py",
   "mimetype": "text/x-python",
   "name": "python",
   "nbconvert_exporter": "python",
   "pygments_lexer": "ipython3",
   "version": "3.9.5"
  }
 },
 "nbformat": 4,
 "nbformat_minor": 4
}
